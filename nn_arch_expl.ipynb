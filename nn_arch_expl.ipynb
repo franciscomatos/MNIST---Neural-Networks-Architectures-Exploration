{
  "nbformat": 4,
  "nbformat_minor": 0,
  "metadata": {
    "colab": {
      "name": "nn_arch_expl.ipynb",
      "provenance": [],
      "collapsed_sections": []
    },
    "kernelspec": {
      "name": "python3",
      "display_name": "Python 3"
    }
  },
  "cells": [
    {
      "cell_type": "markdown",
      "metadata": {
        "id": "uV8THtbo6K6Y",
        "colab_type": "text"
      },
      "source": [
        "Let's start with the Feed-Forward analysis."
      ]
    },
    {
      "cell_type": "code",
      "metadata": {
        "id": "XU2jxk3JRZ7r",
        "colab_type": "code",
        "colab": {}
      },
      "source": [
        "import tensorflow as tf\n",
        "import tensorflow_datasets as tfds\n",
        "\n",
        "import numpy as np\n",
        "\n",
        "import sklearn.decomposition\n",
        "import matplotlib.pyplot as plt\n",
        "\n",
        "mnist_data, mnist_info = tfds.load('mnist', with_info=True)\n",
        "print(mnist_info)\n",
        "mnist_train_x = np.asarray([instance['image']/255 for instance in tfds.as_numpy(mnist_data['train'])])\n",
        "mnist_train_y = np.asarray([instance['label'] for instance in tfds.as_numpy(mnist_data['train'])])\n",
        "\n",
        "mnist_test_x = np.asarray([instance['image']/255 for instance in tfds.as_numpy(mnist_data['test'])])\n",
        "mnist_test_y = np.asarray([instance['label'] for instance in tfds.as_numpy(mnist_data['test'])])"
      ],
      "execution_count": null,
      "outputs": []
    },
    {
      "cell_type": "markdown",
      "metadata": {
        "id": "-CdCs9OW6Jvf",
        "colab_type": "text"
      },
      "source": [
        "First, we need to decide the number of neurons of each hidden layer. The thumb rule says that it should be between the input and output size. With this in mind, let's test and verify which brings us the best results."
      ]
    },
    {
      "cell_type": "code",
      "metadata": {
        "id": "hQcep4gbRcIu",
        "colab_type": "code",
        "colab": {}
      },
      "source": [
        "neurons = [100, 200, 300, 400, 500, 600, 700]\n",
        "modelsResults = []\n",
        "earlystop = tf.keras.callbacks.EarlyStopping(monitor='val_accuracy', patience=10, verbose=1)\n",
        "\n",
        "for i in range(len(neurons)):\n",
        "  filename = 'mnist_two_layers_'+str(neurons[i])+'_best.h5'\n",
        "  modelname = 'mnist_ff_two_layers_'+str(neurons[i])\n",
        "  checkpoint_two_layers = tf.keras.callbacks.ModelCheckpoint(filename, monitor='val_accuracy', verbose=1, save_best_only=True)\n",
        "  mnist_two_layers_model = tf.keras.Sequential(name=modelname)\n",
        "  mnist_two_layers_model.add(tf.keras.layers.Input(mnist_info.features['image'].shape))\n",
        "  mnist_two_layers_model.add(tf.keras.layers.Flatten(name='flatten'))\n",
        "  mnist_two_layers_model.add(tf.keras.layers.Dense(neurons[i], activation='tanh', name='test'))\n",
        "  mnist_two_layers_model.add(tf.keras.layers.Dense(mnist_info.features['label'].num_classes, activation='softmax', name='output'))\n",
        "  mnist_two_layers_model.compile(loss='sparse_categorical_crossentropy', optimizer='sgd', metrics=['accuracy'])\n",
        "  mnist_two_layers_model.summary()\n",
        "\n",
        "  mnist_two_layers_model_train = mnist_two_layers_model.fit(mnist_train_x, mnist_train_y, validation_split=0.2, callbacks=[earlystop,checkpoint_two_layers], epochs=10000, batch_size=256)\n",
        "  mnist_two_layers_model.load_weights(filename)\n",
        "  loss, acc = mnist_two_layers_model.evaluate(mnist_test_x, mnist_test_y)\n",
        "  modelsResults += [[loss, acc]]"
      ],
      "execution_count": null,
      "outputs": []
    },
    {
      "cell_type": "markdown",
      "metadata": {
        "id": "v_i4UjQz8Uqe",
        "colab_type": "text"
      },
      "source": [
        "Let's plot and check the results:"
      ]
    },
    {
      "cell_type": "code",
      "metadata": {
        "id": "B1-YnwVA1thz",
        "colab_type": "code",
        "colab": {}
      },
      "source": [
        "resultsArray = np.array(modelsResults)\n",
        "resultsArray = np.array([[0.1103, 0.9678], [0.0981, 0.9709], [0.0957, 0.9706], [0.0960, 0.9715], [0.1084,0.9681], [0.1096, 0.9686], [0.1080,0.9688]])\n",
        "# best result: neurons = 400\n",
        "print(\"Best result:\", neurons[np.argmax(resultsArray, axis=0)[1]])\n",
        "#print(resultsArray[:,1])\n",
        "\n",
        "accuracyMaxIndex = np.argmax(resultsArray, axis=0)[1]\n",
        "lossMinIndex = np.argmin(resultsArray, axis=0)[0]\n",
        "\n",
        "fig, (loss_ax, acc_ax) = plt.subplots(1, 2, figsize=(20,7))\n",
        "loss_ax.set_title('Neurons Analysis - Loss')\n",
        "loss_ax.plot(neurons, resultsArray[:,0] , '-r', label='Train')\n",
        "loss_ax.plot(neurons[lossMinIndex], resultsArray[:,0][lossMinIndex], \"X\")\n",
        "loss_ax.set_xlabel(\"Neurons\")\n",
        "loss_ax.set_ylabel(\"Loss\")\n",
        "\n",
        "acc_ax.set_title('Neurons Analysis - Accuracy')\n",
        "acc_ax.plot(neurons, resultsArray[:,1], '-g', label='Train')\n",
        "acc_ax.plot(neurons[accuracyMaxIndex], resultsArray[:,1][accuracyMaxIndex], \"X\")\n",
        "acc_ax.set_xlabel(\"Neurons\")\n",
        "acc_ax.set_ylabel(\"Accuracy\")\n",
        "\n",
        "plt.legend(loc=4)\n",
        "plt.show()\n"
      ],
      "execution_count": null,
      "outputs": []
    },
    {
      "cell_type": "markdown",
      "metadata": {
        "id": "JUZXvk4576Sn",
        "colab_type": "text"
      },
      "source": [
        "The next step is to decide the number of hidden layers of our model. \n",
        "Let's test and verify which brings us the best balance of accuracy and complexity without overfitting. "
      ]
    },
    {
      "cell_type": "code",
      "metadata": {
        "id": "heayJQierFAv",
        "colab_type": "code",
        "colab": {}
      },
      "source": [
        "# test between 2 - 7 layers\n",
        "earlystop = tf.keras.callbacks.EarlyStopping(monitor='val_accuracy', patience=10, verbose=1)\n",
        "modelLayersResults = []\n",
        "for i in range(2,8):\n",
        "  filename = 'mnist_'+str(i)+'_layers_best.h5'\n",
        "  modelname = 'mnist_ff_'+str(i)+'_layers'\n",
        "  mnist_model = tf.keras.Sequential(name=modelname)\n",
        "  mnist_model.add(tf.keras.layers.Input(mnist_info.features['image'].shape))\n",
        "  mnist_model.add(tf.keras.layers.Flatten(name='flatten'))\n",
        "  for j in range(i-1):\n",
        "    mnist_model.add(tf.keras.layers.Dense(neurons[np.argmax(resultsArray, axis=0)[1]], activation='tanh', name='hidden_layer_'+str(j+1)))\n",
        "  mnist_model.add(tf.keras.layers.Dense(mnist_info.features['label'].num_classes, activation='softmax', name='output'))\n",
        "  mnist_model.compile(loss='sparse_categorical_crossentropy', optimizer='sgd', metrics=['accuracy'])\n",
        "  mnist_model.summary()\n",
        "\n",
        "  mnist_model.load_weights(filename)\n",
        "  loss, acc = mnist_model.evaluate(mnist_test_x, mnist_test_y)\n",
        "  modelLayersResults += [[loss, acc]]\n",
        "\n",
        "for result in modelLayersResults:\n",
        "  print(result)"
      ],
      "execution_count": null,
      "outputs": []
    },
    {
      "cell_type": "markdown",
      "metadata": {
        "id": "Ncb_trozs18j",
        "colab_type": "text"
      },
      "source": [
        "Let's plot and check the results."
      ]
    },
    {
      "cell_type": "code",
      "metadata": {
        "id": "w7CfQ9gvs5gE",
        "colab_type": "code",
        "colab": {}
      },
      "source": [
        "layerResultsArray = np.array(modelLayersResults)\n",
        "# best result: 4 hidden layers\n",
        "print(\"Best result:\", np.argmax(layerResultsArray, axis=0)[1] + 1)\n",
        "\n",
        "accuracyMaxIndex = np.argmax(layerResultsArray, axis=0)[1]\n",
        "lossMinIndex = np.argmin(layerResultsArray, axis=0)[0]\n",
        "\n",
        "fig, (loss_ax, acc_ax) = plt.subplots(1, 2, figsize=(20,7))\n",
        "loss_ax.set_title('Hidden Layers Analysis - Loss')\n",
        "loss_ax.plot(np.arange(1,7), layerResultsArray[:,0] , '-r', label='Train')\n",
        "loss_ax.plot(lossMinIndex+1, layerResultsArray[:,0][lossMinIndex], \"X\")\n",
        "loss_ax.set_xlabel(\"Hidden Layers\")\n",
        "loss_ax.set_ylabel(\"Loss\")\n",
        "\n",
        "acc_ax.set_title('Hidden Layers Analysis - Accuracy')\n",
        "acc_ax.plot(np.arange(1,7), layerResultsArray[:,1], '-g', label='Train')\n",
        "acc_ax.plot(accuracyMaxIndex+1, layerResultsArray[:,1][accuracyMaxIndex], \"X\")\n",
        "acc_ax.set_xlabel(\"Hidden Layers\")\n",
        "acc_ax.set_ylabel(\"Accuracy\")\n",
        "\n",
        "plt.legend(loc=4)\n",
        "plt.show()"
      ],
      "execution_count": null,
      "outputs": []
    },
    {
      "cell_type": "markdown",
      "metadata": {
        "id": "u319Pj2xIj8J",
        "colab_type": "text"
      },
      "source": [
        "Now let's explore the Regularization methods. \n",
        "The regularization factor should be between 1 and the number of instances of the dataset. Let's do some testing in l1 and l2:"
      ]
    },
    {
      "cell_type": "code",
      "metadata": {
        "id": "fyCG-_n_I45F",
        "colab_type": "code",
        "colab": {}
      },
      "source": [
        "# training dataset contains 60000 instances, so we'll vary the parameter between 1 and 600000\n",
        "earlystop = tf.keras.callbacks.EarlyStopping(monitor='val_accuracy', patience=10, verbose=1)\n",
        "modelRegularizationResults = []\n",
        "for i in range(0,100, 10):\n",
        "  filename = 'mnist_4_layers_+'+str(i)+'best.h5'\n",
        "  modelname = 'mnist_ff_4_layers_'+str(i)\n",
        "  checkpoint = tf.keras.callbacks.ModelCheckpoint(filename, monitor='val_accuracy', verbose=1, save_best_only=True)\n",
        "\n",
        "  mnist_model = tf.keras.Sequential(name=modelname)\n",
        "  mnist_model.add(tf.keras.layers.Input(mnist_info.features['image'].shape))\n",
        "  mnist_model.add(tf.keras.layers.Flatten(name='flatten'))\n",
        "\n",
        "  mnist_model.add(tf.keras.layers.Dense(400, activation='tanh', kernel_regularizer=tf.keras.regularizers.l2(i/100), name='hidden_layer_0'))\n",
        "  for j in range(3):\n",
        "    mnist_model.add(tf.keras.layers.Dense(400, activation='tanh', name='hidden_layer_'+str(j+1)))\n",
        "\n",
        "  mnist_model.add(tf.keras.layers.Dense(mnist_info.features['label'].num_classes, activation='softmax', name='output'))\n",
        "  mnist_model.compile(loss='sparse_categorical_crossentropy', optimizer='sgd', metrics=['accuracy'])\n",
        "  mnist_model.summary()\n",
        "  mnist_model_train = mnist_model.fit(mnist_train_x[:5000], mnist_train_y[:5000], validation_split=0.2, callbacks=[earlystop,checkpoint], epochs=10000, batch_size=256)\n",
        "\n",
        "  mnist_model.load_weights(filename)\n",
        "  loss, acc = mnist_model.evaluate(mnist_test_x, mnist_test_y)\n",
        "  modelRegularizationResults += [[loss, acc]]\n",
        "  print(modelRegularizationResults)\n",
        "\n",
        "for result in modelRegularizationResults:\n",
        "  print(result)\n"
      ],
      "execution_count": null,
      "outputs": []
    },
    {
      "cell_type": "code",
      "metadata": {
        "id": "Vqzz9_NwZrxv",
        "colab_type": "code",
        "colab": {}
      },
      "source": [
        "earlystop = tf.keras.callbacks.EarlyStopping(monitor='val_accuracy', patience=10, verbose=1)\n",
        "modelRegularizationResultsL1 = []\n",
        "for i in range(0,100, 10):\n",
        "  filename = 'mnist_4_layers_L1_+'+str(i)+'best.h5'\n",
        "  modelname = 'mnist_ff_4_layers_L1_'+str(i)\n",
        "  checkpoint = tf.keras.callbacks.ModelCheckpoint(filename, monitor='val_accuracy', verbose=1, save_best_only=True)\n",
        "\n",
        "  mnist_model = tf.keras.Sequential(name=modelname)\n",
        "  mnist_model.add(tf.keras.layers.Input(mnist_info.features['image'].shape))\n",
        "  mnist_model.add(tf.keras.layers.Flatten(name='flatten'))\n",
        "\n",
        "  mnist_model.add(tf.keras.layers.Dense(400, activation='tanh', kernel_regularizer=tf.keras.regularizers.l1(i/100), name='hidden_layer_0'))\n",
        "  for j in range(3):\n",
        "    mnist_model.add(tf.keras.layers.Dense(400, activation='tanh', name='hidden_layer_'+str(j+1)))\n",
        "\n",
        "  mnist_model.add(tf.keras.layers.Dense(mnist_info.features['label'].num_classes, activation='softmax', name='output'))\n",
        "  mnist_model.compile(loss='sparse_categorical_crossentropy', optimizer='sgd', metrics=['accuracy'])\n",
        "  mnist_model.summary()\n",
        "  mnist_model_train = mnist_model.fit(mnist_train_x[:5000], mnist_train_y[:5000], validation_split=0.2, callbacks=[earlystop,checkpoint], epochs=10000, batch_size=256)\n",
        "\n",
        "  mnist_model.load_weights(filename)\n",
        "  loss, acc = mnist_model.evaluate(mnist_test_x, mnist_test_y)\n",
        "  modelRegularizationResultsL1 += [[loss, acc]]\n",
        "  print(modelRegularizationResultsL1)\n",
        "\n",
        "for result in modelRegularizationResultsL1:\n",
        "  print(result)"
      ],
      "execution_count": null,
      "outputs": []
    },
    {
      "cell_type": "markdown",
      "metadata": {
        "id": "O0t1k0O8gi12",
        "colab_type": "text"
      },
      "source": [
        "Let's plot and check the results:"
      ]
    },
    {
      "cell_type": "code",
      "metadata": {
        "id": "OPVKZF3VgQgI",
        "colab_type": "code",
        "colab": {}
      },
      "source": [
        "L1regularizationResultsArray = np.array(modelRegularizationResultsL1)\n",
        "L2regularizationResultsArray = np.array(modelRegularizationResults)\n",
        "\n",
        "\n",
        "regLimits = [0.0, 0.1, 0.2, 0.3, 0.4, 0.5, 0.6, 0.7, 0.8, 0.9]\n",
        "# best result: 0-0.1 \n",
        "print(\"Best result:\", regLimits[np.argmax(regularizationResultsArray, axis=0)[1]])\n",
        "\n",
        "L1accuracyMaxIndex = np.argmax(L1regularizationResultsArray, axis=0)[1]\n",
        "L1lossMinIndex = np.argmin(L1regularizationResultsArray, axis=0)[0]\n",
        "L2accuracyMaxIndex = np.argmax(L2regularizationResultsArray, axis=0)[1]\n",
        "L2lossMinIndex = np.argmin(L2regularizationResultsArray, axis=0)[0]\n",
        "\n",
        "fig, (loss_ax, acc_ax) = plt.subplots(1, 2, figsize=(20,7))\n",
        "loss_ax.set_title('Regularization Broad Analysis - Loss')\n",
        "loss_ax.plot(regLimits, L1regularizationResultsArray[:,0] , '-g', label='L1')\n",
        "loss_ax.plot(regLimits, L2regularizationResultsArray[:,0] , '-b', label='L2')\n",
        "\n",
        "\n",
        "loss_ax.set_xlabel(\"Regularization Factor\")\n",
        "loss_ax.set_ylabel(\"Loss\")\n",
        "\n",
        "acc_ax.set_title('Regularization Broad Analysis - Accuracy')\n",
        "acc_ax.plot(regLimits, L1regularizationResultsArray[:,1] , '-g', label='L1')\n",
        "acc_ax.plot(regLimits, L2regularizationResultsArray[:,1] , '-b', label='L2')\n",
        "\n",
        "acc_ax.set_xlabel(\"Regularization Factor\")\n",
        "acc_ax.set_ylabel(\"Accuracy\")\n",
        "\n",
        "plt.legend(loc=4)\n",
        "plt.show()"
      ],
      "execution_count": null,
      "outputs": []
    },
    {
      "cell_type": "markdown",
      "metadata": {
        "id": "L_9ROo0AoHZW",
        "colab_type": "text"
      },
      "source": [
        "Now we need to shorten the intervals in order to find the ideal value."
      ]
    },
    {
      "cell_type": "code",
      "metadata": {
        "id": "xUXiFFi2oMS6",
        "colab_type": "code",
        "colab": {}
      },
      "source": [
        "earlystop = tf.keras.callbacks.EarlyStopping(monitor='val_accuracy', patience=10, verbose=1)\n",
        "modelRegularizationResultsL1 = []\n",
        "for i in range(0,100, 10):\n",
        "  filename = 'mnist_4_layers_L1_+'+str(i/1000)+'best.h5'\n",
        "  modelname = 'mnist_ff_4_layers_L1_'+str(i/1000)\n",
        "  checkpoint = tf.keras.callbacks.ModelCheckpoint(filename, monitor='val_accuracy', verbose=1, save_best_only=True)\n",
        "\n",
        "  mnist_model = tf.keras.Sequential(name=modelname)\n",
        "  mnist_model.add(tf.keras.layers.Input(mnist_info.features['image'].shape))\n",
        "  mnist_model.add(tf.keras.layers.Flatten(name='flatten'))\n",
        "  for j in range(4):\n",
        "    mnist_model.add(tf.keras.layers.Dense(400, activation='tanh', kernel_regularizer=tf.keras.regularizers.l1(i/1000), name='hidden_layer_'+str(j+1)))\n",
        "  mnist_model.add(tf.keras.layers.Dense(mnist_info.features['label'].num_classes, activation='softmax', name='output'))\n",
        "  mnist_model.compile(loss='sparse_categorical_crossentropy', optimizer='sgd', metrics=['accuracy'])\n",
        "  mnist_model.summary()\n",
        "  mnist_model_train = mnist_model.fit(mnist_train_x, mnist_train_y, validation_split=0.2, callbacks=[earlystop,checkpoint], epochs=10000, batch_size=256)\n",
        "\n",
        "  mnist_model.load_weights(filename)\n",
        "  loss, acc = mnist_model.evaluate(mnist_test_x, mnist_test_y)\n",
        "  modelRegularizationResultsL1 += [[loss, acc]]\n",
        "  print(modelRegularizationResultsL1)\n",
        "\n",
        "for result in modelRegularizationResultsL1:\n",
        "  print(result)"
      ],
      "execution_count": null,
      "outputs": []
    },
    {
      "cell_type": "code",
      "metadata": {
        "id": "WDew113DuUyy",
        "colab_type": "code",
        "colab": {}
      },
      "source": [
        "earlystop = tf.keras.callbacks.EarlyStopping(monitor='val_accuracy', patience=10, verbose=1)\n",
        "modelRegularizationResultsL2 = []\n",
        "for i in range(0,100, 10):\n",
        "  filename = 'mnist_4_layers_L2_+'+str(i/1000)+'best.h5'\n",
        "  modelname = 'mnist_ff_4_layers_L2_'+str(i/1000)\n",
        "  checkpoint = tf.keras.callbacks.ModelCheckpoint(filename, monitor='val_accuracy', verbose=1, save_best_only=True)\n",
        "\n",
        "  mnist_model = tf.keras.Sequential(name=modelname)\n",
        "  mnist_model.add(tf.keras.layers.Input(mnist_info.features['image'].shape))\n",
        "  mnist_model.add(tf.keras.layers.Flatten(name='flatten'))\n",
        "\n",
        "  mnist_model.add(tf.keras.layers.Dense(400, activation='tanh', kernel_regularizer=tf.keras.regularizers.l1(i/1000), name='hidden_layer_0'))\n",
        "  for j in range(3):\n",
        "    mnist_model.add(tf.keras.layers.Dense(400, activation='tanh', name='hidden_layer_'+str(j+1)))\n",
        "\n",
        "  mnist_model.add(tf.keras.layers.Dense(mnist_info.features['label'].num_classes, activation='softmax', name='output'))\n",
        "  mnist_model.compile(loss='sparse_categorical_crossentropy', optimizer='sgd', metrics=['accuracy'])\n",
        "  mnist_model.summary()\n",
        "  mnist_model_train = mnist_model.fit(mnist_train_x[:5000], mnist_train_y[:5000], validation_split=0.2, callbacks=[earlystop,checkpoint], epochs=10000, batch_size=256)\n",
        "\n",
        "  mnist_model.load_weights(filename)\n",
        "  loss, acc = mnist_model.evaluate(mnist_test_x, mnist_test_y)\n",
        "  modelRegularizationResultsL2 += [[loss, acc]]\n",
        "  print(modelRegularizationResultsL2)\n",
        "\n",
        "for result in modelRegularizationResultsL2:\n",
        "  print(result)"
      ],
      "execution_count": null,
      "outputs": []
    },
    {
      "cell_type": "markdown",
      "metadata": {
        "id": "ND-E8MTc1NWK",
        "colab_type": "text"
      },
      "source": [
        "Let's now evaluate the results."
      ]
    },
    {
      "cell_type": "code",
      "metadata": {
        "id": "2Xo4bn331QhQ",
        "colab_type": "code",
        "colab": {}
      },
      "source": [
        "L1regularizationResultsArray = np.array(modelRegularizationResultsL1)\n",
        "L2regularizationResultsArray = np.array(modelRegularizationResultsL2)\n",
        "\n",
        "\n",
        "regLimits = [0.00, 0.01, 0.02, 0.03, 0.04, 0.05, 0.06, 0.07, 0.08, 0.09]\n",
        "# best result: 0-0.1 \n",
        "print(\"Best result:\", regLimits[np.argmax(regularizationResultsArray, axis=0)[1]])\n",
        "\n",
        "L1accuracyMaxIndex = np.argmax(L1regularizationResultsArray, axis=0)[1]\n",
        "L1lossMinIndex = np.argmin(L1regularizationResultsArray, axis=0)[0]\n",
        "L2accuracyMaxIndex = np.argmax(L2regularizationResultsArray, axis=0)[1]\n",
        "L2lossMinIndex = np.argmin(L2regularizationResultsArray, axis=0)[0]\n",
        "\n",
        "fig, (loss_ax, acc_ax) = plt.subplots(1, 2, figsize=(20,7))\n",
        "loss_ax.set_title('Regularization Detail Analysis - Loss')\n",
        "loss_ax.plot(regLimits, L1regularizationResultsArray[:,0] , '-g', label='L1')\n",
        "loss_ax.plot(regLimits, L2regularizationResultsArray[:,0] , '-b', label='L2')\n",
        "#loss_ax.plot(regLimits[lossMinIndex], L1regularizationResultsArray[:,0][L1lossMinIndex], \"X\")\n",
        "#loss_ax.plot(regLimits[lossMinIndex], L2regularizationResultsArray[:,0][L2lossMinIndex], \"X\")\n",
        "\n",
        "loss_ax.set_xlabel(\"Regularization Factor\")\n",
        "loss_ax.set_ylabel(\"Loss\")\n",
        "\n",
        "acc_ax.set_title('Regularization Detail Analysis - Accuracy')\n",
        "acc_ax.plot(regLimits, L1regularizationResultsArray[:,1] , '-g', label='L1')\n",
        "acc_ax.plot(regLimits, L2regularizationResultsArray[:,1] , '-b', label='L2')\n",
        "#acc_ax.plot(regLimits[L1accuracyMaxIndex], L1regularizationResultsArray[:,1][L1accuracyMaxIndex], \"X\")\n",
        "#acc_ax.plot(regLimits[L2accuracyMaxIndex], L2regularizationResultsArray[:,1][L2accuracyMaxIndex], \"X\")\n",
        "acc_ax.set_xlabel(\"Regularization Factor\")\n",
        "acc_ax.set_ylabel(\"Accuracy\")\n",
        "\n",
        "plt.legend(loc=4)\n",
        "plt.show()"
      ],
      "execution_count": null,
      "outputs": []
    },
    {
      "cell_type": "markdown",
      "metadata": {
        "id": "BWXcqHPcH6ag",
        "colab_type": "text"
      },
      "source": [
        "# Convolutional Neural Network"
      ]
    },
    {
      "cell_type": "markdown",
      "metadata": {
        "id": "MMR9nhlCIHIO",
        "colab_type": "text"
      },
      "source": [
        "Once again, we begin by deciding the number of neurons of each hidden layer:"
      ]
    },
    {
      "cell_type": "code",
      "metadata": {
        "id": "-Vh4oLNzIImi",
        "colab_type": "code",
        "colab": {}
      },
      "source": [
        "neurons = [100, 200, 300, 400, 500, 600, 700]\n",
        "modelsResults = []"
      ],
      "execution_count": null,
      "outputs": []
    },
    {
      "cell_type": "code",
      "metadata": {
        "id": "jqRImwTVIKlQ",
        "colab_type": "code",
        "colab": {}
      },
      "source": [
        "earlystop = tf.keras.callbacks.EarlyStopping(monitor='val_accuracy', patience=10, verbose=1)\n",
        "\n",
        "for i in range(len(neurons)):\n",
        "  mnist_conv_model = tf.keras.Sequential(name='mnist_cnn')\n",
        "  mnist_conv_model.add(tf.keras.layers.Input(mnist_info.features['image'].shape))\n",
        "  mnist_conv_model.add(tf.keras.layers.Conv2D(filters=16, kernel_size=4, activation='relu', padding='same', name='convolution'))\n",
        "  mnist_conv_model.add(tf.keras.layers.MaxPool2D(pool_size=2, name='pooling'))\n",
        "  mnist_conv_model.add(tf.keras.layers.Flatten(name='flatten'))\n",
        "  mnist_conv_model.add(tf.keras.layers.Dense(neurons[i], activation='relu', name='hl1'))\n",
        "  mnist_conv_model.add(tf.keras.layers.Dense(mnist_info.features['label'].num_classes, activation='softmax', name='output'))\n",
        "  mnist_conv_model.compile(loss='sparse_categorical_crossentropy', optimizer='sgd', metrics=['accuracy'])\n",
        "  mnist_conv_model.summary()\n",
        "  \n",
        "  checkpoint = tf.keras.callbacks.ModelCheckpoint('mnist_conv_best.h5', monitor='val_accuracy', verbose=1, save_best_only=True)\n",
        "  mnist_conv_model_train = mnist_conv_model.fit(mnist_train_x, mnist_train_y, validation_split=0.2, callbacks=[earlystop,checkpoint], epochs=10000, batch_size=256)\n",
        "\n",
        "  mnist_conv_model.load_weights('mnist_conv_best.h5')\n",
        "  loss, acc = mnist_conv_model.evaluate(mnist_test_x, mnist_test_y)\n",
        "  modelsResults += [[loss, acc]]\n",
        "  print('Accuracy: {}'.format(acc))\n",
        "  print('Loss: {}'.format(loss))"
      ],
      "execution_count": null,
      "outputs": []
    },
    {
      "cell_type": "markdown",
      "metadata": {
        "id": "t8rrOrT7IQ4t",
        "colab_type": "text"
      },
      "source": [
        "Let's plot and check the results:"
      ]
    },
    {
      "cell_type": "code",
      "metadata": {
        "id": "ex7z-venIPyK",
        "colab_type": "code",
        "colab": {
          "base_uri": "https://localhost:8080/",
          "height": 475
        },
        "outputId": "6b86a2ff-b491-4aaa-8d16-f533d4d08711"
      },
      "source": [
        "resultsArray = np.array(modelsResults)\n",
        "\n",
        "# best result: neurons = 700\n",
        "print(\"Best result:\", neurons[np.argmax(resultsArray, axis=0)[1]])\n",
        "\n",
        "accuracyMaxIndex = np.argmax(resultsArray, axis=0)[1]\n",
        "lossMinIndex = np.argmin(resultsArray, axis=0)[0]\n",
        "\n",
        "fig, (loss_ax, acc_ax) = plt.subplots(1, 2, figsize=(20,7))\n",
        "loss_ax.set_title('Neurons Analysis - Loss')\n",
        "loss_ax.plot(neurons, resultsArray[:,0] , '-r', label='Train')\n",
        "loss_ax.plot(neurons[lossMinIndex], resultsArray[:,0][lossMinIndex], \"X\")\n",
        "loss_ax.set_xlabel(\"Neurons\")\n",
        "loss_ax.set_ylabel(\"Loss\")\n",
        "\n",
        "acc_ax.set_title('Neurons Analysis - Accuracy')\n",
        "acc_ax.plot(neurons, resultsArray[:,1], '-g', label='Train')\n",
        "acc_ax.plot(neurons[accuracyMaxIndex], resultsArray[:,1][accuracyMaxIndex], \"X\")\n",
        "acc_ax.set_xlabel(\"Neurons\")\n",
        "acc_ax.set_ylabel(\"Accuracy\")\n",
        "\n",
        "plt.legend(loc=4)\n",
        "plt.show()"
      ],
      "execution_count": null,
      "outputs": [
        {
          "output_type": "stream",
          "text": [
            "Best result: 700\n"
          ],
          "name": "stdout"
        },
        {
          "output_type": "display_data",
          "data": {
            "image/png": "[encoded data removed]",
            "text/plain": [
              "<Figure size 1440x504 with 2 Axes>"
            ]
          },
          "metadata": {
            "tags": [],
            "needs_background": "light"
          }
        }
      ]
    },
    {
      "cell_type": "markdown",
      "metadata": {
        "id": "WpAzKHVzdw57",
        "colab_type": "text"
      },
      "source": [
        "The next step is deciding the number of hidden layers of our model. The best results were achieved with 700 neurons per layer, so we'll explore between 1 and 6 hidden layers, each with 700 neurons."
      ]
    },
    {
      "cell_type": "code",
      "metadata": {
        "id": "EzgRwfQQd975",
        "colab_type": "code",
        "colab": {}
      },
      "source": [
        "modelsResults = []\n",
        "for i in range(1,7):\n",
        "  earlystop = tf.keras.callbacks.EarlyStopping(monitor='val_accuracy', patience=10, verbose=1)\n",
        "  mnist_conv_model = tf.keras.Sequential(name='mnist_cnn')\n",
        "  mnist_conv_model.add(tf.keras.layers.Input(mnist_info.features['image'].shape))\n",
        "  mnist_conv_model.add(tf.keras.layers.Conv2D(filters=16, kernel_size=4, activation='relu', padding='same', name='convolution'))\n",
        "  mnist_conv_model.add(tf.keras.layers.MaxPool2D(pool_size=2, name='pooling'))\n",
        "  mnist_conv_model.add(tf.keras.layers.Flatten(name='flatten'))\n",
        "\n",
        "  for j in range(1,i+1):\n",
        "    mnist_conv_model.add(tf.keras.layers.Dense(700, activation='relu', name='hl'+str(j)))\n",
        "\n",
        "  mnist_conv_model.add(tf.keras.layers.Dense(mnist_info.features['label'].num_classes, activation='softmax', name='output'))\n",
        "  mnist_conv_model.compile(loss='sparse_categorical_crossentropy', optimizer='sgd', metrics=['accuracy'])\n",
        "  mnist_conv_model.summary()\n",
        "  \n",
        "  checkpoint = tf.keras.callbacks.ModelCheckpoint('mnist_conv_best.h5', monitor='val_accuracy', verbose=1, save_best_only=True)\n",
        "  mnist_conv_model_train = mnist_conv_model.fit(mnist_train_x, mnist_train_y, validation_split=0.2, callbacks=[earlystop,checkpoint], epochs=10000, batch_size=256)\n",
        "\n",
        "  mnist_conv_model.load_weights('mnist_conv_best.h5')\n",
        "  loss, acc = mnist_conv_model.evaluate(mnist_test_x, mnist_test_y)\n",
        "  modelsResults += [[loss, acc]]\n",
        "  print('Accuracy: {}'.format(acc))\n",
        "  print('Loss: {}'.format(loss))"
      ],
      "execution_count": null,
      "outputs": []
    },
    {
      "cell_type": "markdown",
      "metadata": {
        "id": "W0YZlxFnd_UF",
        "colab_type": "text"
      },
      "source": [
        "Let's now plot:"
      ]
    },
    {
      "cell_type": "code",
      "metadata": {
        "id": "jFvv7uGzd-2J",
        "colab_type": "code",
        "colab": {}
      },
      "source": [
        "#resultsArray = np.array(modelsResults)\n",
        "resultsArray = np.array([[0.056138746440410614, 0.9811000227928162], [0.05270325392484665, 0.9837999939918518], [0.05080743879079819, 0.983299970626831], [0.05260307714343071, 0.9832000136375427], [0.05461176857352257, 0.9837999939918518], [0.05053083971142769, 0.984000027179718]])\n",
        "\n",
        "# best result: layers = 6\n",
        "layers = [1,2,3,4,5,6]\n",
        "print(\"Best result:\", layers[np.argmax(resultsArray, axis=0)[1]])\n",
        "#print(resultsArray[:,1])\n",
        "\n",
        "accuracyMaxIndex = np.argmax(resultsArray, axis=0)[1]\n",
        "lossMinIndex = np.argmin(resultsArray, axis=0)[0]\n",
        "\n",
        "fig, (loss_ax, acc_ax) = plt.subplots(1, 2, figsize=(20,7))\n",
        "loss_ax.set_title('Number of Hidden Layers Analysis - Loss')\n",
        "loss_ax.plot(layers, resultsArray[:,0] , '-r', label='Train')\n",
        "loss_ax.plot(layers[lossMinIndex], resultsArray[:,0][lossMinIndex], \"X\")\n",
        "loss_ax.set_xlabel(\"Number of Hidden Layers\")\n",
        "loss_ax.set_ylabel(\"Loss\")\n",
        "\n",
        "acc_ax.set_title('Number of Hidden Layers Analysis - Accuracy')\n",
        "acc_ax.plot(layers, resultsArray[:,1], '-g', label='Train')\n",
        "acc_ax.plot(layers[accuracyMaxIndex], resultsArray[:,1][accuracyMaxIndex], \"X\")\n",
        "acc_ax.set_xlabel(\"Number of Hidden Layers\")\n",
        "acc_ax.set_ylabel(\"Accuracy\")\n",
        "\n",
        "plt.legend(loc=4)\n",
        "plt.show()"
      ],
      "execution_count": null,
      "outputs": []
    },
    {
      "cell_type": "markdown",
      "metadata": {
        "id": "Q1VMy1G954HL",
        "colab_type": "text"
      },
      "source": [
        "Let's now explore the usage of regularization. The network will have 6 hidden layers with 700 neurons each, the values previously found to deliever the best results.\n",
        "\n",
        "We begin with L2 Regularization:"
      ]
    },
    {
      "cell_type": "code",
      "metadata": {
        "id": "93prjdkV6OmY",
        "colab_type": "code",
        "colab": {}
      },
      "source": [
        "L2modelRegularizationResults = []\n",
        "earlystop = tf.keras.callbacks.EarlyStopping(monitor='val_accuracy', patience=10, verbose=1)\n",
        "\n",
        "for i in range(0,100, 10):\n",
        "  mnist_conv_model_l2 = tf.keras.Sequential(name='mnist_cnn_l2'+str(i))\n",
        "  mnist_conv_model_l2.add(tf.keras.layers.Input(mnist_info.features['image'].shape))\n",
        "  mnist_conv_model_l2.add(tf.keras.layers.Conv2D(filters=16, kernel_size=4, activation='relu', padding='same', name='convolution'))\n",
        "  mnist_conv_model_l2.add(tf.keras.layers.MaxPool2D(pool_size=2, name='pooling'))\n",
        "  mnist_conv_model_l2.add(tf.keras.layers.Flatten(name='flatten'))\n",
        "\n",
        "  for j in range(1,7):\n",
        "    mnist_conv_model_l2.add(tf.keras.layers.Dense(700, activation='relu', kernel_regularizer=tf.keras.regularizers.l2(i/100), name='hl_'+str(j)))\n",
        "  \n",
        "  mnist_conv_model_l2.add(tf.keras.layers.Dense(mnist_info.features['label'].num_classes, activation='softmax', name='output'))\n",
        "  mnist_conv_model_l2.compile(loss='sparse_categorical_crossentropy', optimizer='sgd', metrics=['accuracy'])\n",
        "  mnist_conv_model_l2.summary()\n",
        "\n",
        "  filename = 'mnist_conv_6hl'+str(i)+'best.h5'\n",
        "  checkpoint = tf.keras.callbacks.ModelCheckpoint(filename, monitor='val_accuracy', verbose=1, save_best_only=True)\n",
        "  mnist_conv_model_l2_train = mnist_conv_model_l2.fit(mnist_train_x, mnist_train_y, validation_split=0.2, callbacks=[earlystop,checkpoint], epochs=10000, batch_size=256)\n",
        "\n",
        "  mnist_conv_model_l2.load_weights(filename)\n",
        "  loss, acc = mnist_conv_model_l2.evaluate(mnist_test_x, mnist_test_y)\n",
        "  L2modelRegularizationResults += [[loss, acc]]\n",
        "  print(L2modelRegularizationResults)\n",
        "\n",
        "for result in L2modelRegularizationResults:\n",
        "  print(result)"
      ],
      "execution_count": null,
      "outputs": []
    },
    {
      "cell_type": "code",
      "metadata": {
        "id": "pFfPnp2r_1Eo",
        "colab_type": "code",
        "colab": {}
      },
      "source": [
        "L2regularizationResultsArray = np.array(L2modelRegularizationResults)\n",
        "regLimits = [0.1, 0.2, 0.3, 0.4, 0.5, 0.6, 0.7, 0.8, 0.9, 1]\n",
        "\n",
        "# best result: 0-0.1 \n",
        "print(\"Best result:\", regLimits[np.argmax(L2regularizationResultsArray, axis=0)[1]])\n",
        "\n",
        "accuracyMaxIndex = np.argmax(L2regularizationResultsArray, axis=0)[1]\n",
        "lossMinIndex = np.argmin(L2regularizationResultsArray, axis=0)[0]\n",
        "\n",
        "fig, (loss_ax, acc_ax) = plt.subplots(1, 2, figsize=(20,7))\n",
        "loss_ax.set_title('L2 Regularization Broad Analysis - Loss')\n",
        "loss_ax.plot(regLimits, L2regularizationResultsArray[:,0] , '-r', label='Train')\n",
        "loss_ax.plot(regLimits[lossMinIndex], L2regularizationResultsArray[:,0][lossMinIndex], \"X\")\n",
        "loss_ax.set_xlabel(\"Regularization Factor\")\n",
        "loss_ax.set_ylabel(\"Loss\")\n",
        "\n",
        "acc_ax.set_title('L2 Regularization Broad Analysis - Accuracy')\n",
        "acc_ax.plot(regLimits, L2regularizationResultsArray[:,1], '-g', label='Train')\n",
        "acc_ax.plot(regLimits[accuracyMaxIndex], L2regularizationResultsArray[:,1][accuracyMaxIndex], \"X\")\n",
        "acc_ax.set_xlabel(\"Regularization Factor\")\n",
        "acc_ax.set_ylabel(\"Accuracy\")\n",
        "\n",
        "plt.legend(loc=4)\n",
        "plt.show()"
      ],
      "execution_count": null,
      "outputs": []
    },
    {
      "cell_type": "markdown",
      "metadata": {
        "id": "CUM845uXApUc",
        "colab_type": "text"
      },
      "source": [
        "Let's now try the L1 Regularization:"
      ]
    },
    {
      "cell_type": "code",
      "metadata": {
        "id": "zawjNVgCAzrE",
        "colab_type": "code",
        "colab": {}
      },
      "source": [
        "L1modelRegularizationResults = []\n",
        "earlystop = tf.keras.callbacks.EarlyStopping(monitor='val_accuracy', patience=10, verbose=1)\n",
        "\n",
        "for i in range(0,100, 10):\n",
        "  mnist_conv_model_l1 = tf.keras.Sequential(name='mnist_cnn_l1'+str(i))\n",
        "  mnist_conv_model_l1.add(tf.keras.layers.Input(mnist_info.features['image'].shape))\n",
        "  mnist_conv_model_l1.add(tf.keras.layers.Conv2D(filters=16, kernel_size=4, activation='relu', padding='same', name='convolution'))\n",
        "  mnist_conv_model_l1.add(tf.keras.layers.MaxPool2D(pool_size=2, name='pooling'))\n",
        "  mnist_conv_model_l1.add(tf.keras.layers.Flatten(name='flatten'))\n",
        "\n",
        "  for j in range(1,7):\n",
        "    mnist_conv_model_l1.add(tf.keras.layers.Dense(700, activation='relu', kernel_regularizer=tf.keras.regularizers.l1(i/100), name='hl_'+str(j)))\n",
        "  \n",
        "  mnist_conv_model_l1.add(tf.keras.layers.Dense(mnist_info.features['label'].num_classes, activation='softmax', name='output'))\n",
        "  mnist_conv_model_l1.compile(loss='sparse_categorical_crossentropy', optimizer='sgd', metrics=['accuracy'])\n",
        "  mnist_conv_model_l1.summary()\n",
        "\n",
        "  filename = 'mnist_conv_6hl'+str(i)+'best.h5'\n",
        "  checkpoint = tf.keras.callbacks.ModelCheckpoint(filename, monitor='val_accuracy', verbose=1, save_best_only=True)\n",
        "  mnist_conv_model_l1_train = mnist_conv_model_l1.fit(mnist_train_x, mnist_train_y, validation_split=0.2, callbacks=[earlystop,checkpoint], epochs=10000, batch_size=256)\n",
        "\n",
        "  mnist_conv_model_l1.load_weights(filename)\n",
        "  loss, acc = mnist_conv_model_l1.evaluate(mnist_test_x, mnist_test_y)\n",
        "  L1modelRegularizationResults += [[loss, acc]]\n",
        "  print(L1modelRegularizationResults)\n",
        "\n",
        "for result in L1modelRegularizationResults:\n",
        "  print(result)"
      ],
      "execution_count": null,
      "outputs": []
    },
    {
      "cell_type": "code",
      "metadata": {
        "id": "jakMainCDyph",
        "colab_type": "code",
        "colab": {}
      },
      "source": [
        "L1regularizationResultsArray = np.array(L1modelRegularizationResults)\n",
        "regLimits = [0.1, 0.2, 0.3, 0.4, 0.5, 0.6, 0.7, 0.8, 0.9, 1]\n",
        "\n",
        "# best result: 0-0.1 \n",
        "print(\"Best result:\", regLimits[np.argmax(L1regularizationResultsArray, axis=0)[1]])\n",
        "\n",
        "accuracyMaxIndex = np.argmax(L1regularizationResultsArray, axis=0)[1]\n",
        "lossMinIndex = np.argmin(L1regularizationResultsArray, axis=0)[0]\n",
        "\n",
        "fig, (loss_ax, acc_ax) = plt.subplots(1, 2, figsize=(20,7))\n",
        "loss_ax.set_title('L1 Regularization Broad Analysis - Loss')\n",
        "loss_ax.plot(regLimits, L1regularizationResultsArray[:,0] , '-r', label='Train')\n",
        "loss_ax.plot(regLimits[lossMinIndex], L1regularizationResultsArray[:,0][lossMinIndex], \"X\")\n",
        "loss_ax.set_xlabel(\"Regularization Factor\")\n",
        "loss_ax.set_ylabel(\"Loss\")\n",
        "\n",
        "acc_ax.set_title('L1 Regularization Broad Analysis - Accuracy')\n",
        "acc_ax.plot(regLimits, L1regularizationResultsArray[:,1], '-g', label='Train')\n",
        "acc_ax.plot(regLimits[accuracyMaxIndex], L1regularizationResultsArray[:,1][accuracyMaxIndex], \"X\")\n",
        "acc_ax.set_xlabel(\"Regularization Factor\")\n",
        "acc_ax.set_ylabel(\"Accuracy\")\n",
        "\n",
        "plt.legend(loc=4)\n",
        "plt.show()"
      ],
      "execution_count": null,
      "outputs": []
    },
    {
      "cell_type": "markdown",
      "metadata": {
        "id": "A8u9hY-hKqXd",
        "colab_type": "text"
      },
      "source": [
        "Let's compare both regularizations:"
      ]
    },
    {
      "cell_type": "code",
      "metadata": {
        "id": "dttIvo7dKuGI",
        "colab_type": "code",
        "colab": {}
      },
      "source": [
        "L1regularizationResultsArray = np.array(L1modelRegularizationResults)\n",
        "L2regularizationResultsArray = np.array(L2modelRegularizationResults)\n",
        "\n",
        "regLimits = [0.0, 0.1, 0.2, 0.3, 0.4, 0.5, 0.6, 0.7, 0.8, 0.9]\n",
        "# best result: 0-0.1 \n",
        "print(\"Best result:\", regLimits[np.argmax(regularizationResultsArray, axis=0)[1]])\n",
        "\n",
        "L1accuracyMaxIndex = np.argmax(L1regularizationResultsArray, axis=0)[1]\n",
        "L1lossMinIndex = np.argmin(L1regularizationResultsArray, axis=0)[0]\n",
        "L2accuracyMaxIndex = np.argmax(L2regularizationResultsArray, axis=0)[1]\n",
        "L2lossMinIndex = np.argmin(L2regularizationResultsArray, axis=0)[0]\n",
        "\n",
        "fig, (loss_ax, acc_ax) = plt.subplots(1, 2, figsize=(20,7))\n",
        "loss_ax.set_title('Regularization Broad Analysis - Loss')\n",
        "loss_ax.plot(regLimits, L1regularizationResultsArray[:,0] , '-g', label='L1')\n",
        "loss_ax.plot(regLimits, L2regularizationResultsArray[:,0] , '-b', label='L2')\n",
        "#loss_ax.plot(regLimits[lossMinIndex], L1regularizationResultsArray[:,0][L1lossMinIndex], \"X\")\n",
        "#loss_ax.plot(regLimits[lossMinIndex], L2regularizationResultsArray[:,0][L2lossMinIndex], \"X\")\n",
        "\n",
        "loss_ax.set_xlabel(\"Regularization Factor\")\n",
        "loss_ax.set_ylabel(\"Loss\")\n",
        "\n",
        "acc_ax.set_title('Regularization Broad Analysis - Accuracy')\n",
        "acc_ax.plot(regLimits, L1regularizationResultsArray[:,1] , '-g', label='L1')\n",
        "acc_ax.plot(regLimits, L2regularizationResultsArray[:,1] , '-b', label='L2')\n",
        "#acc_ax.plot(regLimits[L1accuracyMaxIndex], L1regularizationResultsArray[:,1][L1accuracyMaxIndex], \"X\")\n",
        "#acc_ax.plot(regLimits[L2accuracyMaxIndex], L2regularizationResultsArray[:,1][L2accuracyMaxIndex], \"X\")\n",
        "acc_ax.set_xlabel(\"Regularization Factor\")\n",
        "acc_ax.set_ylabel(\"Accuracy\")\n",
        "\n",
        "plt.legend(loc=4)\n",
        "plt.show()"
      ],
      "execution_count": null,
      "outputs": []
    },
    {
      "cell_type": "markdown",
      "metadata": {
        "id": "h9IUVGUJLbys",
        "colab_type": "text"
      },
      "source": [
        "Now we shorten the intervals to find the ideal value:"
      ]
    },
    {
      "cell_type": "code",
      "metadata": {
        "id": "GsJhLPLOLt1p",
        "colab_type": "code",
        "colab": {}
      },
      "source": [
        "L1modelRegularizationResults = []\n",
        "earlystop = tf.keras.callbacks.EarlyStopping(monitor='val_accuracy', patience=10, verbose=1)\n",
        "\n",
        "for i in range(0,100, 10):\n",
        "  mnist_conv_model_l1 = tf.keras.Sequential(name='mnist_cnn_l1'+str(i))\n",
        "  mnist_conv_model_l1.add(tf.keras.layers.Input(mnist_info.features['image'].shape))\n",
        "  mnist_conv_model_l1.add(tf.keras.layers.Conv2D(filters=16, kernel_size=4, activation='relu', padding='same', name='convolution'))\n",
        "  mnist_conv_model_l1.add(tf.keras.layers.MaxPool2D(pool_size=2, name='pooling'))\n",
        "  mnist_conv_model_l1.add(tf.keras.layers.Flatten(name='flatten'))\n",
        "\n",
        "  for j in range(1,7):\n",
        "    mnist_conv_model_l1.add(tf.keras.layers.Dense(700, activation='relu', kernel_regularizer=tf.keras.regularizers.l1(i/1000), name='hl_'+str(j)))\n",
        "  \n",
        "  mnist_conv_model_l1.add(tf.keras.layers.Dense(mnist_info.features['label'].num_classes, activation='softmax', name='output'))\n",
        "  mnist_conv_model_l1.compile(loss='sparse_categorical_crossentropy', optimizer='sgd', metrics=['accuracy'])\n",
        "  mnist_conv_model_l1.summary()\n",
        "\n",
        "  filename = 'mnist_conv_6hl'+str(i)+'best.h5'\n",
        "  checkpoint = tf.keras.callbacks.ModelCheckpoint(filename, monitor='val_accuracy', verbose=1, save_best_only=True)\n",
        "  mnist_conv_model_l1_train = mnist_conv_model_l1.fit(mnist_train_x, mnist_train_y, validation_split=0.2, callbacks=[earlystop,checkpoint], epochs=10000, batch_size=256)\n",
        "\n",
        "  mnist_conv_model_l1.load_weights(filename)\n",
        "  loss, acc = mnist_conv_model_l1.evaluate(mnist_test_x, mnist_test_y)\n",
        "  L1modelRegularizationResults += [[loss, acc]]\n",
        "  print(L1modelRegularizationResults)\n",
        "\n",
        "for result in L1modelRegularizationResults:\n",
        "  print(result)"
      ],
      "execution_count": null,
      "outputs": []
    },
    {
      "cell_type": "code",
      "metadata": {
        "id": "IvPrPcjnOb5s",
        "colab_type": "code",
        "colab": {}
      },
      "source": [
        "L2modelRegularizationResults = []\n",
        "earlystop = tf.keras.callbacks.EarlyStopping(monitor='val_accuracy', patience=10, verbose=1)\n",
        "\n",
        "for i in range(0,100, 10):\n",
        "  mnist_conv_model_l2 = tf.keras.Sequential(name='mnist_cnn_l2'+str(i))\n",
        "  mnist_conv_model_l2.add(tf.keras.layers.Input(mnist_info.features['image'].shape))\n",
        "  mnist_conv_model_l2.add(tf.keras.layers.Conv2D(filters=16, kernel_size=4, activation='relu', padding='same', name='convolution'))\n",
        "  mnist_conv_model_l2.add(tf.keras.layers.MaxPool2D(pool_size=2, name='pooling'))\n",
        "  mnist_conv_model_l2.add(tf.keras.layers.Flatten(name='flatten'))\n",
        "\n",
        "  for j in range(1,7):\n",
        "    mnist_conv_model_l2.add(tf.keras.layers.Dense(700, activation='relu', kernel_regularizer=tf.keras.regularizers.l2(i/1000), name='hl_'+str(j)))\n",
        "  \n",
        "  mnist_conv_model_l2.add(tf.keras.layers.Dense(mnist_info.features['label'].num_classes, activation='softmax', name='output'))\n",
        "  mnist_conv_model_l2.compile(loss='sparse_categorical_crossentropy', optimizer='sgd', metrics=['accuracy'])\n",
        "  mnist_conv_model_l2.summary()\n",
        "\n",
        "  filename = 'mnist_conv_6hl'+str(i)+'best.h5'\n",
        "  checkpoint = tf.keras.callbacks.ModelCheckpoint(filename, monitor='val_accuracy', verbose=1, save_best_only=True)\n",
        "  mnist_conv_model_l2_train = mnist_conv_model_l2.fit(mnist_train_x, mnist_train_y, validation_split=0.2, callbacks=[earlystop,checkpoint], epochs=10000, batch_size=256)\n",
        "\n",
        "  mnist_conv_model_l2.load_weights(filename)\n",
        "  loss, acc = mnist_conv_model_l2.evaluate(mnist_test_x, mnist_test_y)\n",
        "  L2modelRegularizationResults += [[loss, acc]]\n",
        "  print(L2modelRegularizationResults)\n",
        "\n",
        "for result in L2modelRegularizationResults:\n",
        "  print(result)"
      ],
      "execution_count": null,
      "outputs": []
    },
    {
      "cell_type": "code",
      "metadata": {
        "id": "stpofnsvWmJJ",
        "colab_type": "code",
        "colab": {}
      },
      "source": [
        "L1regularizationResultsArray = np.array(L1modelRegularizationResults)\n",
        "L2regularizationResultsArray = np.array(L2modelRegularizationResults)\n",
        "print(L1regularizationResultsArray)\n",
        "print(L2regularizationResultsArray)\n",
        "\n",
        "regLimits = [0.00, 0.01, 0.02, 0.03, 0.04, 0.05, 0.06, 0.07, 0.08, 0.09]\n",
        "\n",
        "L1accuracyMaxIndex = np.argmax(L1regularizationResultsArray, axis=0)[1]\n",
        "L1lossMinIndex = np.argmin(L1regularizationResultsArray, axis=0)[0]\n",
        "L2accuracyMaxIndex = np.argmax(L2regularizationResultsArray, axis=0)[1]\n",
        "L2lossMinIndex = np.argmin(L2regularizationResultsArray, axis=0)[0]\n",
        "\n",
        "fig, (loss_ax, acc_ax) = plt.subplots(1, 2, figsize=(20,7))\n",
        "loss_ax.set_title('Regularization Broad Analysis - Loss')\n",
        "loss_ax.plot(regLimits, L1regularizationResultsArray[:,0] , '-g', label='L1')\n",
        "loss_ax.plot(regLimits, L2regularizationResultsArray[:,0] , '-b', label='L2')\n",
        "#loss_ax.plot(regLimits[lossMinIndex], L1regularizationResultsArray[:,0][L1lossMinIndex], \"X\")\n",
        "#loss_ax.plot(regLimits[lossMinIndex], L2regularizationResultsArray[:,0][L2lossMinIndex], \"X\")\n",
        "\n",
        "loss_ax.set_xlabel(\"Regularization Factor\")\n",
        "loss_ax.set_ylabel(\"Loss\")\n",
        "\n",
        "acc_ax.set_title('Regularization Broad Analysis - Accuracy')\n",
        "acc_ax.plot(regLimits, L1regularizationResultsArray[:,1] , '-g', label='L1')\n",
        "acc_ax.plot(regLimits, L2regularizationResultsArray[:,1] , '-b', label='L2')\n",
        "#acc_ax.plot(regLimits[L1accuracyMaxIndex], L1regularizationResultsArray[:,1][L1accuracyMaxIndex], \"X\")\n",
        "#acc_ax.plot(regLimits[L2accuracyMaxIndex], L2regularizationResultsArray[:,1][L2accuracyMaxIndex], \"X\")\n",
        "acc_ax.set_xlabel(\"Regularization Factor\")\n",
        "acc_ax.set_ylabel(\"Accuracy\")\n",
        "\n",
        "plt.legend(loc=4)\n",
        "plt.show()"
      ],
      "execution_count": null,
      "outputs": []
    },
    {
      "cell_type": "markdown",
      "metadata": {
        "id": "qfzC54AEl5HN",
        "colab_type": "text"
      },
      "source": [
        "DROPOUT"
      ]
    },
    {
      "cell_type": "code",
      "metadata": {
        "id": "CWSWvI6Hl6E2",
        "colab_type": "code",
        "colab": {}
      },
      "source": [
        "dropoutModelRegularizationResults = []\n",
        "earlystop = tf.keras.callbacks.EarlyStopping(monitor='val_accuracy', patience=5, verbose=1)\n",
        "\n",
        "for i in range(10):\n",
        "  mnist_conv_drop_model = tf.keras.Sequential(name='mnist_cnn_dropout'+str(i/10))\n",
        "  mnist_conv_drop_model.add(tf.keras.layers.Input(mnist_info.features['image'].shape))\n",
        "  mnist_conv_drop_model.add(tf.keras.layers.Conv2D(filters=16, kernel_size=4, activation='relu', padding='same', name='convolution'))\n",
        "  mnist_conv_drop_model.add(tf.keras.layers.MaxPool2D(pool_size=2, name='pooling'))\n",
        "  mnist_conv_drop_model.add(tf.keras.layers.Dropout(i/10, name='dropout0'))\n",
        "  mnist_conv_drop_model.add(tf.keras.layers.Flatten(name='flatten'))\n",
        "\n",
        "  for j in range(6):\n",
        "    mnist_conv_drop_model.add(tf.keras.layers.Dense(700, activation='relu', name='hl_'+str(j)))\n",
        "  \n",
        "  mnist_conv_drop_model.add(tf.keras.layers.Dense(mnist_info.features['label'].num_classes, activation='softmax', name='output'))\n",
        "  mnist_conv_drop_model.compile(loss='sparse_categorical_crossentropy', optimizer='sgd', metrics=['accuracy'])\n",
        "  mnist_conv_drop_model.summary()\n",
        "\n",
        "  filename = 'mnist_conv_dropout_'+str(i/10)+'best.h5'\n",
        "  checkpoint = tf.keras.callbacks.ModelCheckpoint(filename, monitor='val_accuracy', verbose=1, save_best_only=True)\n",
        "  mnist_conv_drop_model_train = mnist_conv_drop_model.fit(mnist_train_x[:5000], mnist_train_y[:5000], validation_split=0.2, callbacks=[earlystop,checkpoint], epochs=10000, batch_size=256)\n",
        "\n",
        "  mnist_conv_drop_model.load_weights(filename)\n",
        "  loss, acc = mnist_conv_drop_model.evaluate(mnist_test_x, mnist_test_y)\n",
        "  dropoutModelRegularizationResults += [[loss, acc]]\n",
        "  print(dropoutModelRegularizationResults)\n",
        "\n",
        "for result in dropoutModelRegularizationResults:\n",
        "  print(result)"
      ],
      "execution_count": null,
      "outputs": []
    },
    {
      "cell_type": "code",
      "metadata": {
        "id": "UKTk0xDhmcdg",
        "colab_type": "code",
        "colab": {}
      },
      "source": [
        "#L1regularizationResultsArray = np.array(modelRegularizationResultsL1)\n",
        "dropoutResultsArray = np.array(dropoutModelRegularizationResults)\n",
        "\n",
        "regLimits = [0.0, 0.1, 0.2, 0.3, 0.4, 0.5, 0.6, 0.7, 0.8, 0.9]\n",
        "print(\"Best result:\", regLimits[np.argmax(dropoutResultsArray, axis=0)[1]])\n",
        "\n",
        "#L1accuracyMaxIndex = np.argmax(L1regularizationResultsArray, axis=0)[1]\n",
        "#L1lossMinIndex = np.argmin(L1regularizationResultsArray, axis=0)[0]\n",
        "accuracyMaxIndex = np.argmax(dropoutResultsArray, axis=0)[1]\n",
        "lossMinIndex = np.argmin(dropoutResultsArray, axis=0)[0]\n",
        "\n",
        "fig, (loss_ax, acc_ax) = plt.subplots(1, 2, figsize=(20,7))\n",
        "loss_ax.set_title('Dropout Analysis - Loss')\n",
        "#loss_ax.plot(regLimits, L1regularizationResultsArray[:,0] , '-g', label='L1')\n",
        "loss_ax.plot(regLimits, dropoutResultsArray[:,0] , '-b', label='L2')\n",
        "#loss_ax.plot(regLimits[lossMinIndex], L1regularizationResultsArray[:,0][L1lossMinIndex], \"X\")\n",
        "#loss_ax.plot(regLimits[lossMinIndex], L2regularizationResultsArray[:,0][L2lossMinIndex], \"X\")\n",
        "\n",
        "loss_ax.set_xlabel(\"Dropout Factor\")\n",
        "loss_ax.set_ylabel(\"Loss\")\n",
        "\n",
        "acc_ax.set_title('Regularization Detail Analysis - Accuracy')\n",
        "#acc_ax.plot(regLimits, L1regularizationResultsArray[:,1] , '-g', label='L1')\n",
        "acc_ax.plot(regLimits, dropoutResultsArray[:,1] , '-b', label='L2')\n",
        "#acc_ax.plot(regLimits[L1accuracyMaxIndex], L1regularizationResultsArray[:,1][L1accuracyMaxIndex], \"X\")\n",
        "#acc_ax.plot(regLimits[L2accuracyMaxIndex], L2regularizationResultsArray[:,1][L2accuracyMaxIndex], \"X\")\n",
        "acc_ax.set_xlabel(\"Dropout Factor\")\n",
        "acc_ax.set_ylabel(\"Accuracy\")\n",
        "\n",
        "plt.legend(loc=4)\n",
        "plt.show()"
      ],
      "execution_count": null,
      "outputs": []
    }
  ]
}